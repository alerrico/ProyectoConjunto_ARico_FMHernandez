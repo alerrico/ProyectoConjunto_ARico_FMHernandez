{
 "cells": [
  {
   "cell_type": "markdown",
   "metadata": {},
   "source": [
    "<img style=\"float: left; margin: 30px 15px 15px 15px;\" src=\"https://pngimage.net/wp-content/uploads/2018/06/logo-iteso-png-5.png\" width=\"300\" height=\"500\" /> \n",
    "    \n",
    "    \n",
    "### <font color='navy'> Simulación de procesos financieros. \n",
    "\n",
    "**Nombres:** Alejandra Rico Rosales, Frida María Hernández López.\n",
    "\n",
    "**Fecha:** 31 de agosto del 2021.\n",
    "\n",
    "**Expediente:** 720838, 720476.\n",
    "    \n",
    "**Profesor:** Oscar David Jaramillo Zuluaga.\n",
    "    \n",
    "**Link Github:** [Link con el enlace del repositorio del creador del proyecto](https://github.com/alerrico/ProyectoConjunto_ARico_FMHernandez)\n",
    "\n",
    "# Tarea 1: Clase 2"
   ]
  },
  {
   "cell_type": "markdown",
   "metadata": {},
   "source": [
    "## Enunciado de tarea (Transcribirlo)\n",
    "> ### Recuerden que en canvas se encuntra el archivo Plantilla tareas, en donde deben de solucionar todas sus tareas.\n",
    "\n",
    "> Este archivo contiene las pautas necesarias para crear el archivo conjunto en Github, usando los notebooks de Jupyter:\n",
    "> 1.  El archivo debe realizarse en parejas y sólo uno de los dos debe crear en su cuenta de *Github* un repositorio con el nombre **ProyectoConjunto\\_APELLIDO1\\_APELLIDO2**. A la persona que creó el repositorio la llamaremos (ESTUDIANTE 1 ). El APELLIDO se debe de escribir (Iniciales del nombre y primer apellido), por ejemplo si yo creara el archivo lo debería de nombrar *ProyectoConjunto\\_ODJaramillo*. \n",
    "> 2.  Posteriormente, desde la cuenta del (ESTUDIANTE 2), 'aquel que no creó el repositorio anterior', ingresar al perfil del ESTUDIANTE 1 y en el repositorio creado en el paso 1, realizar un \"fork\" de este repositorio en su perfil, y además realizar los pasos en Gitkraken para hacer dicho repositorio \"Remoto (REMOTE)\" VER DICHO PROCEDIMIENTO EN LA CLASE **Clase2_GitTurorial2**.\n",
    "> 3.  Luego de realizados los pasos 1 y 2, el ESTUDIANTE 1 y ESTUDIANTE > 2, desde su computador realizar un *clone* del repositorio creado en el numeral 1 en la carpeta que cada quién haya asignado para el curso en su computador. \n",
    "> 4.  Luego desde Jupyter el ESTUDIANTE 1, crea un nuevo ``notebook`` en el repositorio del paso 3. \n",
    "> 5.  En este nuevo notebook el ESTUDIANTE 1 y ESTUDIANTE 2, deben realizar una presentación describiendo sus expectativas del curso y la transcipción de la Figura 1 y Figura 2 respectivamente, haciendo uso de la sintaxis Markdown. Recuerden definir unas celdas donde cada usuario modificará el cuaderno de python para evitar futuros conflictos. \n",
    "> **RECOMENDACIÓN:ANTES DE EMPEZAR A REALIZAR MUCHAS MODIFICACIONES DEL NOTEBOOK PRIMERO REALICEN CAMBIOS PEQUEÑOS EN EL ARCHIVO EN CONJUNTO Y VERIFIQUEN SI TANTO EL ``ESTUDIANTE 1`` COMO EL ``ESTUDIANTE 2``  RECIBEN LAS ACTUALIZACIONES QUE REALIZAN CADA UNO EN EL PROYECTO PARA VERIFICAR QUE EL REMOTE ESTUVO BIEN CONFIGURADO.**\n",
    "> Les recomiendo ver los siguientes enlaces para ver distintas funciones para escribir en markdown.\n",
    ">    - [Creador de tablas online](https://www.tablesgenerator.com/markdown_tables)\n",
    ">    - [Sintáxis markdown](https://joplinapp.org/markdown/)\n",
    "> 6. Cuando ya se encuentre el proyecto conjunto con la información del ESTUDIANTE 1 y ESTUDIANTE 2, el ``ESTUDIANTE 2``  debe de realizar un `pull request` con las modificaciones realizadas a el `ESTUDIANTE 1` para que este realice un merge a la rama `master`, con las moficaciones propuestas por el `ESTUDIANTE 2`, TAL Y CÓMO SE REALIZÓ EN CLASE. (Recuerden que los pull request se generan en *Gitkraken* y se administran los comentarios o cambios propuestos por su compañero desde *Github* ver `Clase1_GitTurorial` para aclaración de dudas, donde se explica cómo crear *branch y pull request*)"
   ]
  },
  {
   "cell_type": "markdown",
   "metadata": {},
   "source": [
    "### Expectativas del Cuso `ESTUDIANTE 1: ALEJANDRA RICO`"
   ]
  },
  {
   "cell_type": "markdown",
   "metadata": {},
   "source": [
    "<div style =\"text-align:justify\">\n",
    "Lo que espero de este curso es, primero que nada, aprender a usar GitHub y GitKraken para poder hacer uso de estas plataformas en un futuro. Quiero también mejorar mis habilidades para programar así como apoyarme de las herramientas de Markdown y de Latex para crear documentos interesantes y dinámicos. \n",
    "</div>"
   ]
  },
  {
   "cell_type": "markdown",
   "metadata": {},
   "source": [
    "### Expectativas del Cuso `ESTUDIANTE 2: FRIDA HERNÁNDEZ`\n",
    "\n",
    "Durante lo que llevo recorrido en la carrera de Ingeniería Financiera, es común escuchar hablar a personas de semestres arriba sobre materias difíciles y exámenes imposibles. Esta materia no ha sido la excepción, pero me emociona mucho el empezar a combinar los diferentes aprendizajes que tuve en semestres anteriores, como lo es la programación de códigos que simulen diferentes escenarios financieros, algo como lo que vimos en simulación matemática pero mucho más aterrizados y aplicados a la carrera, gracias a los aprendizajes obtenidos durante los ultimos semestres en materias como Ingerniería Financiera y Portafolios de Inversión.\n",
    "\n",
    "No espero que la materia sea fácil, sin embargo, si espero que sea una clase que me deje muchas enseñanzas aplicables a mi vida profesional, tales como:\n",
    "\n",
    ">    - Valuación de Opciones\n",
    ">    - Simulaciones MonteCarlo"
   ]
  },
  {
   "cell_type": "markdown",
   "metadata": {},
   "source": [
    "### Ejercicio 1: \n",
    "Figura 1. Figura que debe transcribir en markdown el `ESTUDIANTE 1`. DEBE SER IGUAL CON COLORES Y FORMATO."
   ]
  },
  {
   "cell_type": "markdown",
   "metadata": {},
   "source": [
    "#### Código de solución `ESTUDIANTE 1: ALEJANDRA RICO`"
   ]
  },
  {
   "cell_type": "markdown",
   "metadata": {},
   "source": [
    "|*i*|  *x* |  *f(x)*  |\n",
    "|---|:----:|:--------:| \n",
    "| 0 |  -1  |  0.3678  |\n",
    "| <span style=\"color:red\">1</span> | <span style=\"color:red\">-0.5</span> |  <span style=\"color:red\">0.7788</span>  |\n",
    "| <span style=\"color:blue\">2</span> |   <span style=\"color:blue\">0</span>  |     <span style=\"color:blue\">1</span>    |\n",
    "| <span style=\"color:red\">3</span> |  <span style=\"color:red\">0.5</span> |  <span style=\"color:red\">0.7788</span>  | \n",
    "| 4 |   1  |  0.3678  |"
   ]
  },
  {
   "cell_type": "markdown",
   "metadata": {},
   "source": [
    "<center>\n",
    "Cuadro 1: Tabla de valores $f(x)$\n",
    "</center>"
   ]
  },
  {
   "cell_type": "markdown",
   "metadata": {},
   "source": [
    "<center> \n",
    "$\\int_{-1}^1 e^{-x^2} dx \\thickapprox \\frac{0,5}{3}[f(-1)+f(1)+4($ <font color = red>$f(-0,5)+f(0,5)$ </font>)$ +2 $<font color = blue>$f(0)$</font>]\n",
    "</center>"
   ]
  },
  {
   "cell_type": "markdown",
   "metadata": {},
   "source": [
    "<center> \n",
    "$\\thickapprox \\frac{0,5}{3}[0,3678+0,3678+4($ <font color = red>$0,7788+0,7788$ </font>)$+2 \\centerdot $<font color = blue>$1$</font>]$\\thickapprox 1,4943$ \n",
    "</center>"
   ]
  },
  {
   "cell_type": "markdown",
   "metadata": {},
   "source": [
    "<center>\n",
    "A modo de verificación, se calculará por software, el valor del área para *n* = 100, un valor mucho más elevado al que se utilizó anteriormente. Si lo calculado previamente es correcto, se esperaría que sea próximo al valor presentado a continuación para ser una buena aproximación.\n",
    "</center>"
   ]
  },
  {
   "cell_type": "markdown",
   "metadata": {},
   "source": [
    "<center> $\\int_{-1}^1 e^{-x^2} dx \\thickapprox 1,4936$ </center>"
   ]
  },
  {
   "cell_type": "markdown",
   "metadata": {},
   "source": [
    "#### Código de solución `ESTUDIANTE 2: FRIDA HERNÁNDEZ`"
   ]
  },
  {
   "cell_type": "markdown",
   "metadata": {},
   "source": [
    "|        i                  | 1   \t| 2   \t| 3   \t| 4   \t| 5 \t| 6 \t| 7  \t|\n",
    "|:-----------------------:\t|:-----:|-----\t|-----\t|-----\t|---\t|---\t|----\t|\n",
    "| $$E_i(V)$$            \t| 12  \t| 10  \t| 24  \t| 12  \t| - \t| - \t| -  \t|\n",
    "| $$r_i(\\omega)$$       \t| 0.1 \t| 0.5 \t| 0.2 \t| 0.5 \t| - \t| - \t| -  \t|\n",
    "| $$R_i(\\omega)$$        \t| 25  \t| 40  \t| 16  \t| 20  \t| 9 \t| 4 \t| 20 \t|\n",
    "\n",
    "<font color=blue>Kemna y Vorst (1990)</font> muestran que las opciones asiáticas con media geométrica continua se pueden valuar con el mismo enfoque de las opciones plain vanilla; solo se deben cambiar los parámetros de volatilidad $\\sigma$ por $\\sigma_\\alpha$ y el costo de acarreo b por b$_A$.\n",
    "\n",
    "De acuerdo con Kemna y Vorst, las fórmulas para valuar una opción de compra y una opción de venta son:\n",
    "\n",
    "\n",
    "$$c≈S_{t}e^{(b_A-r)(T-t)}\\phi(d_1)-Ke^{-r(T-t)}\\phi(d_2),$$\n",
    "\n",
    " \n",
    "$$p≈Ke^{-r(T-t)}\\phi(-d_2)-S_{t}e^{(b_A-r)(T-t)}\\phi(-d_1).$$\n",
    "\n",
    "\n",
    "con $d_1$ y $d_2$ dados por:\n",
    "\n",
    "$$d_1=\\frac{ln(S_t-K)+(b_A+1/2\\sigma^2_\\alpha)(T-t)}{\\alpha\\sqrt{T-t}}$$\n",
    "\n",
    "$$d_2=d_1-\\sigma_\\alpha\\sqrt{T-t}$$\n",
    "\n",
    "La función $\\phi(d)$ es la función de distribución acumulada de E~N(0,1). La volatilidad ajustada es igual a:\n",
    "\n",
    "$$\\sigma_\\alpha=\\frac{\\sigma}{\\sqrt{3}},$$\n",
    "\n",
    "mientras que el costo de acarreo ajustado es:\n",
    "\n",
    "$$b_A=\\frac{1}{2}(v-\\frac{\\sigma^2}{6}).$$"
   ]
  },
  {
   "cell_type": "markdown",
   "metadata": {},
   "source": [
    "> 7. Luego de culminado los pasos anteriores, el ESTUDIANTE 1,realizará un programa que imprima la serie de fibonacci para sus primeros 100 términos en un array de python,usando la rama “master” del repositorio creado. Por otro lado, el ESTUDIANTE 2, creando un “branch” llamado `ejerPrograma`, generará un programa que muestre los números primos del 0-100. Luego de que el ESTUDIANTE 2 haya terminado su programa, debe de realizar un “pull request” al ESTUDIANTE 1, **ANTES** de hacer un “merge” de la rama `ejerPrograma` en el proyecto principal (“master”). Luego de realizado estos pasos **NO BORRAR LA RAMA CREADA (`ejerPrograma`)**"
   ]
  },
  {
   "cell_type": "markdown",
   "metadata": {},
   "source": [
    "### Ejercicio 2: \n",
    "`ESTUDIANTE 1` Serie de Fibonacci."
   ]
  },
  {
   "cell_type": "markdown",
   "metadata": {},
   "source": [
    "#### Código de solución `ESTUDIANTE 1: ALEJANDRA RICO`"
   ]
  },
  {
   "cell_type": "code",
   "execution_count": 3,
   "metadata": {},
   "outputs": [
    {
     "data": {
      "text/plain": [
       "[0,\n",
       " 1,\n",
       " 1,\n",
       " 2,\n",
       " 3,\n",
       " 5,\n",
       " 8,\n",
       " 13,\n",
       " 21,\n",
       " 34,\n",
       " 55,\n",
       " 89,\n",
       " 144,\n",
       " 233,\n",
       " 377,\n",
       " 610,\n",
       " 987,\n",
       " 1597,\n",
       " 2584,\n",
       " 4181,\n",
       " 6765,\n",
       " 10946,\n",
       " 17711,\n",
       " 28657,\n",
       " 46368,\n",
       " 75025,\n",
       " 121393,\n",
       " 196418,\n",
       " 317811,\n",
       " 514229,\n",
       " 832040,\n",
       " 1346269,\n",
       " 2178309,\n",
       " 3524578,\n",
       " 5702887,\n",
       " 9227465,\n",
       " 14930352,\n",
       " 24157817,\n",
       " 39088169,\n",
       " 63245986,\n",
       " 102334155,\n",
       " 165580141,\n",
       " 267914296,\n",
       " 433494437,\n",
       " 701408733,\n",
       " 1134903170,\n",
       " 1836311903,\n",
       " 2971215073,\n",
       " 4807526976,\n",
       " 7778742049,\n",
       " 12586269025,\n",
       " 20365011074,\n",
       " 32951280099,\n",
       " 53316291173,\n",
       " 86267571272,\n",
       " 139583862445,\n",
       " 225851433717,\n",
       " 365435296162,\n",
       " 591286729879,\n",
       " 956722026041,\n",
       " 1548008755920,\n",
       " 2504730781961,\n",
       " 4052739537881,\n",
       " 6557470319842,\n",
       " 10610209857723,\n",
       " 17167680177565,\n",
       " 27777890035288,\n",
       " 44945570212853,\n",
       " 72723460248141,\n",
       " 117669030460994,\n",
       " 190392490709135,\n",
       " 308061521170129,\n",
       " 498454011879264,\n",
       " 806515533049393,\n",
       " 1304969544928657,\n",
       " 2111485077978050,\n",
       " 3416454622906707,\n",
       " 5527939700884757,\n",
       " 8944394323791464,\n",
       " 14472334024676221,\n",
       " 23416728348467685,\n",
       " 37889062373143906,\n",
       " 61305790721611591,\n",
       " 99194853094755497,\n",
       " 160500643816367088,\n",
       " 259695496911122585,\n",
       " 420196140727489673,\n",
       " 679891637638612258,\n",
       " 1100087778366101931,\n",
       " 1779979416004714189,\n",
       " 2880067194370816120,\n",
       " 4660046610375530309,\n",
       " 7540113804746346429,\n",
       " 12200160415121876738,\n",
       " 19740274219868223167,\n",
       " 31940434634990099905,\n",
       " 51680708854858323072,\n",
       " 83621143489848422977,\n",
       " 135301852344706746049,\n",
       " 218922995834555169026,\n",
       " 354224848179261915075]"
      ]
     },
     "execution_count": 3,
     "metadata": {},
     "output_type": "execute_result"
    }
   ],
   "source": [
    "n = 100\n",
    "y0 = 0\n",
    "y1 = 1\n",
    "y = [y0, y1]\n",
    "for i in range(n-1):\n",
    "    y.append(y[-1]+y[-2])\n",
    "y"
   ]
  },
  {
   "cell_type": "markdown",
   "metadata": {},
   "source": [
    "`ESTUDIANTE 2` Numeros Primos.\n",
    "#### Código de solución `ESTUDIANTE 2: FRIDA HERNÁNDEZ`"
   ]
  },
  {
   "cell_type": "code",
   "execution_count": 1,
   "metadata": {},
   "outputs": [
    {
     "name": "stdout",
     "output_type": "stream",
     "text": [
      "1\n",
      "2\n",
      "3\n",
      "5\n",
      "7\n",
      "11\n",
      "13\n",
      "17\n",
      "19\n",
      "23\n",
      "29\n",
      "31\n",
      "37\n",
      "41\n",
      "43\n",
      "47\n",
      "53\n",
      "59\n",
      "61\n",
      "67\n",
      "71\n",
      "73\n",
      "79\n",
      "83\n",
      "89\n",
      "97\n"
     ]
    }
   ],
   "source": [
    "num=100\n",
    "c=0\n",
    "for i in range(c, num + 1):\n",
    "    primo = True\n",
    "    for j in range(2,11):\n",
    "        if i == j:\n",
    "           break\n",
    "        elif i%j == 0:\n",
    "           primo = False\n",
    "        else:\n",
    "           continue\n",
    "    if primo == True:\n",
    "        print(i)\n",
    "        c=c+ 1"
   ]
  }
 ],
 "metadata": {
  "kernelspec": {
   "display_name": "Python 3",
   "language": "python",
   "name": "python3"
  },
  "language_info": {
   "codemirror_mode": {
    "name": "ipython",
    "version": 3
   },
   "file_extension": ".py",
   "mimetype": "text/x-python",
   "name": "python",
   "nbconvert_exporter": "python",
   "pygments_lexer": "ipython3",
   "version": "3.8.3"
  }
 },
 "nbformat": 4,
 "nbformat_minor": 4
}
